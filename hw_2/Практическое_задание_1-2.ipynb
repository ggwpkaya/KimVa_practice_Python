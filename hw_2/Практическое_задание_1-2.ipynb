{
  "nbformat": 4,
  "nbformat_minor": 0,
  "metadata": {
    "colab": {
      "provenance": []
    },
    "kernelspec": {
      "name": "python3",
      "display_name": "Python 3"
    },
    "language_info": {
      "name": "python"
    }
  },
  "cells": [
    {
      "cell_type": "code",
      "source": [
        "class Chocolate:\n",
        "    def __init__(self, price: float, addition: str = None):\n",
        "        if price <= 0:\n",
        "            raise ValueError(\"Цена должна быть больше нуля\")\n",
        "        self.price = price\n",
        "        self.addition = addition\n",
        "\n",
        "    def show_my_chocolate(self):\n",
        "        if self.addition:\n",
        "            print(f\"Шоколадный батончик, добавка: {self.addition}\")\n",
        "        else:\n",
        "            print(\"Обычный шоколадный батончик\")\n",
        "\n",
        "    def __str__(self):\n",
        "        return f\"Шоколадный батончик, {self.price} рублей\"\n"
      ],
      "metadata": {
        "id": "_Bwu-_3RT3ex"
      },
      "execution_count": 23,
      "outputs": []
    },
    {
      "cell_type": "code",
      "source": [
        "try:\n",
        "    chocolate1 = Chocolate(40.0, \"Малина\")\n",
        "    chocolate2 = Chocolate(30.0)\n",
        "    chocolate3 = Chocolate(-40.0, \"Карамель\")\n",
        "except ValueError as error:\n",
        "    print(error)"
      ],
      "metadata": {
        "colab": {
          "base_uri": "https://localhost:8080/"
        },
        "id": "FlyWgyXBUr2E",
        "outputId": "92acb2c3-ef57-4388-b41a-2c203a4f9808"
      },
      "execution_count": 34,
      "outputs": [
        {
          "output_type": "stream",
          "name": "stdout",
          "text": [
            "Цена должна быть больше нуля\n"
          ]
        }
      ]
    },
    {
      "cell_type": "code",
      "source": [
        "chocolate1.show_my_chocolate()\n",
        "chocolate2.show_my_chocolate()\n"
      ],
      "metadata": {
        "colab": {
          "base_uri": "https://localhost:8080/"
        },
        "id": "fpFoyGvpUwbi",
        "outputId": "92a78c6c-ed02-476b-ac7f-c1601e4996ea"
      },
      "execution_count": 30,
      "outputs": [
        {
          "output_type": "stream",
          "name": "stdout",
          "text": [
            "Шоколадный батончик, добавка: Малина\n",
            "Обычный шоколадный батончик\n"
          ]
        }
      ]
    },
    {
      "cell_type": "code",
      "source": [
        "print(chocolate1)\n",
        "print(chocolate2)"
      ],
      "metadata": {
        "colab": {
          "base_uri": "https://localhost:8080/"
        },
        "id": "J0f0iSncU6KM",
        "outputId": "4da68f10-2329-4b86-9c0e-adaa2696004c"
      },
      "execution_count": 33,
      "outputs": [
        {
          "output_type": "stream",
          "name": "stdout",
          "text": [
            "Шоколадный батончик, 40.0 рублей\n",
            "Шоколадный батончик, 30.0 рублей\n"
          ]
        }
      ]
    }
  ]
}